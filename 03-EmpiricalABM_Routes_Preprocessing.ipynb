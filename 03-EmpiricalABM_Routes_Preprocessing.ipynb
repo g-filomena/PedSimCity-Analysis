{
 "cells": [
  {
   "cell_type": "code",
   "execution_count": 3,
   "metadata": {},
   "outputs": [],
   "source": [
    "import osmnx as ox, networkx as nx, matplotlib.cm as cm, pandas as pd, numpy as np\n",
    "import geopandas as gpd\n",
    "from shapely.geometry import Point, mapping\n",
    "%matplotlib inline\n",
    "\n",
    "import warnings\n",
    "warnings.simplefilter(action=\"ignore\")\n",
    "\n",
    "pd.set_option('precision', 5)\n",
    "pd.options.display.float_format = '{:20.2f}'.format\n",
    "pd.set_option('display.float_format', lambda x: '%.3f' % x)\n",
    "pd.options.mode.chained_assignment = None\n",
    "\n",
    "import cityImage as ci\n",
    "import ABManalysis as af"
   ]
  },
  {
   "cell_type": "markdown",
   "metadata": {},
   "source": [
    "### Preparing and cleaning the routes"
   ]
  },
  {
   "cell_type": "code",
   "execution_count": 4,
   "metadata": {},
   "outputs": [],
   "source": [
    "city_name = 'Muenster'\n",
    "epsg = 25832\n",
    "crs = 'EPSG:'+str(epsg)"
   ]
  },
  {
   "cell_type": "code",
   "execution_count": 297,
   "metadata": {},
   "outputs": [],
   "source": [
    "rs = gpd.read_file('input/routesAll.shp')\n",
    "dp = gpd.read_file('input/decisionPoints.shp')"
   ]
  },
  {
   "cell_type": "code",
   "execution_count": null,
   "metadata": {},
   "outputs": [],
   "source": [
    "routes = rs.copy()\n",
    "routes = routes[0:0]\n",
    "\n",
    "for nr in range(3):\n",
    "    tmp = rs[rs.routeID == nr].copy()\n",
    "    tmp_dp = dp[dp.routeID == nr].copy() \n",
    "    tmp_dp = tmp_dp[(tmp_dp.nodeID != tmp.O.iloc[0] ) & (tmp_dp.nodeID != tmp.D.iloc[0] )]\n",
    "    gdf = split_at_dp(tmp, tmp_dp)\n",
    "    gdf.reset_index(inplace = True, drop = True)\n",
    "   \n",
    "    processed = []\n",
    "    for r in gdf.itertuples():\n",
    "        if r.Index in processed: continue\n",
    "        geo = gdf.loc[r.Index].geometry\n",
    "        routeChoice = gdf.loc[r.Index].routeChoic\n",
    "        rc = []\n",
    "        \n",
    "        for rr in gdf.itertuples():\n",
    "            if r == rr: continue\n",
    "            elif geo == gdf.loc[rr[0]].geometry:\n",
    "                other_rc = gdf.loc[rr[0]].routeChoic\n",
    "                rc.append(other_rc)\n",
    "                processed.append(rr.Index)\n",
    "        \n",
    "        if len(rc)> 0:\n",
    "            rc.append(routeChoice)\n",
    "            gdf.at[r.Index, 'routeChoic'] = rc\n",
    "        else:\n",
    "            gdf.at[r.Index, 'routeChoic'] = [routeChoice]\n",
    "        \n",
    "        routes = routes.append(gdf.loc[r.Index])\n",
    "    routes.reset_index(inplace = True, drop = True)"
   ]
  },
  {
   "cell_type": "code",
   "execution_count": 300,
   "metadata": {},
   "outputs": [],
   "source": [
    "routes['length'] = routes.geometry.length\n",
    "routes['routeChoic'] = [','.join(map(str, l)) for l in routes['routeChoic']]\n",
    "routes.to_file(\"Outputs/split.shp\", driver='ESRI Shapefile')"
   ]
  },
  {
   "cell_type": "code",
   "execution_count": null,
   "metadata": {},
   "outputs": [],
   "source": [
    "def split_at_dp(gdf, dp):\n",
    "    old_gdf = gdf.copy()\n",
    "    \n",
    "    for row in tmp.itertuples():\n",
    "        line_geometry = gdf.loc[row.Index].geometry\n",
    "        union = dp.unary_union\n",
    "        intersections = line_geometry.intersection(union)\n",
    "        if intersections.geom_type == 'Point': \n",
    "            intersections = [intersections]\n",
    "\n",
    "        points = [i for i in intersections if i.geom_type == 'Point']\n",
    "        new_collection = []\n",
    "\n",
    "        for p in points:\n",
    "            if (p.coords[0] == line_geometry.coords[0]) | (p.coords[0] == line_geometry.coords[-1]): \n",
    "                pass # disregarding the ones which lie on the line's u-v nodes\n",
    "            else: new_collection.append(p) # only checking the others\n",
    "        if len(new_collection) == 0: \n",
    "            continue    \n",
    "\n",
    "        geometry_collection = MultiPoint([point.coords[0] for point in new_collection])  \n",
    "        # including the intersecting geometries in the coordinates sequence of the line and split\n",
    "        new_line_geometries = ci.split_line_at_MultiPoint(line_geometry, geometry_collection) \n",
    "        len(new_line_geometries)\n",
    "\n",
    "        for n, line in enumerate(new_line_geometries): # assigning the resulting geometries\n",
    "            if n == 0: \n",
    "                index = row.Index\n",
    "            else: index = max(gdf.index)+1\n",
    "            # copy attributes\n",
    "            gdf.loc[index] = gdf.loc[row.Index]  \n",
    "            # and assign geometry an new edgeID \n",
    "            gdf.at[index, 'geometry'] = line\n",
    "\n",
    "    return gdf  "
   ]
  }
 ],
 "metadata": {
  "kernelspec": {
   "display_name": "Python 3",
   "language": "python",
   "name": "python3"
  },
  "language_info": {
   "codemirror_mode": {
    "name": "ipython",
    "version": 3
   },
   "file_extension": ".py",
   "mimetype": "text/x-python",
   "name": "python",
   "nbconvert_exporter": "python",
   "pygments_lexer": "ipython3",
   "version": "3.9.2"
  }
 },
 "nbformat": 4,
 "nbformat_minor": 2
}
